{
 "cells": [
  {
   "cell_type": "code",
   "execution_count": 2,
   "id": "9096074d-7681-4486-8ded-7384adbf5f11",
   "metadata": {},
   "outputs": [],
   "source": [
    "import scanpy as sc\n",
    "import numpy as np\n",
    "import pandas as pd"
   ]
  },
  {
   "cell_type": "markdown",
   "id": "9833e309-327c-4441-a9e3-ac3a8487217c",
   "metadata": {},
   "source": [
    "## Tox2"
   ]
  },
  {
   "cell_type": "code",
   "execution_count": 3,
   "id": "654192e7-63bf-4e6c-8007-1571659b6216",
   "metadata": {},
   "outputs": [],
   "source": [
    "tox2_adata = sc.read_h5ad(\"/project/gilad/jpopp/cellcipher/data/Tox2/single_cell_objects/filtered.h5ad\")"
   ]
  },
  {
   "cell_type": "code",
   "execution_count": 6,
   "id": "09d451a3-092b-4df8-8b37-f5e8bfbb9900",
   "metadata": {},
   "outputs": [
    {
     "data": {
      "text/plain": [
       "sample_id                 donor_id\n",
       "YG-KR-16s-Tox2-01-1-Ome   NA18912     13234\n",
       "YG-KR-16s-Tox2-06-6-Dox   NA18912     13221\n",
       "YG-KR-16s-Tox2-02-2-Ome   NA18912     13173\n",
       "YG-KR-16s-Tox2-09-9-Per   NA18912     13168\n",
       "YG-KR-16s-Tox2-10-10-Per  NA18912     12966\n",
       "                                      ...  \n",
       "YG-KR-16s-Tox2-02-2-Ome   NA19093      1691\n",
       "YG-KR-16s-Tox2-05-5-Dox   NA18519      1661\n",
       "YG-KR-16s-Tox2-06-6-Dox   NA18519      1612\n",
       "YG-KR-16s-Tox2-09-9-Per   NA18519       613\n",
       "YG-KR-16s-Tox2-10-10-Per  NA18519       600\n",
       "Length: 80, dtype: int64"
      ]
     },
     "execution_count": 6,
     "metadata": {},
     "output_type": "execute_result"
    }
   ],
   "source": [
    "tox2_adata.obs[['sample_id', 'donor_id']].value_counts()"
   ]
  },
  {
   "cell_type": "code",
   "execution_count": null,
   "id": "983476c4-44ab-40e7-8396-62ec22201b04",
   "metadata": {},
   "outputs": [],
   "source": []
  }
 ],
 "metadata": {
  "kernelspec": {
   "display_name": "Python 3 (ipykernel)",
   "language": "python",
   "name": "python3"
  },
  "language_info": {
   "codemirror_mode": {
    "name": "ipython",
    "version": 3
   },
   "file_extension": ".py",
   "mimetype": "text/x-python",
   "name": "python",
   "nbconvert_exporter": "python",
   "pygments_lexer": "ipython3",
   "version": "3.9.19"
  }
 },
 "nbformat": 4,
 "nbformat_minor": 5
}
