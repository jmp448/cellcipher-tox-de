{
 "cells": [
  {
   "cell_type": "code",
   "execution_count": 5,
   "id": "aaf5813b-48f9-492a-bfc7-790755988bce",
   "metadata": {},
   "outputs": [],
   "source": [
    "import scanpy as sc\n",
    "import anndata"
   ]
  },
  {
   "cell_type": "code",
   "execution_count": 2,
   "id": "21163823-362a-4996-9a99-f28d369bd6ef",
   "metadata": {},
   "outputs": [],
   "source": [
    "adata1 = sc.read_h5ad(\"/project/gilad/jpopp/cellcipher/data/Tox1-full/single_cell_objects/raw.h5ad\")"
   ]
  },
  {
   "cell_type": "code",
   "execution_count": 3,
   "id": "04734917-4c48-49e7-853c-7961d580c880",
   "metadata": {},
   "outputs": [],
   "source": [
    "adata2 = sc.read_h5ad(\"/project/gilad/jpopp/cellcipher/data/Tox2-full/single_cell_objects/raw.h5ad\")"
   ]
  },
  {
   "cell_type": "code",
   "execution_count": 7,
   "id": "80f869c0-3261-4dea-a73e-b1a063580c45",
   "metadata": {},
   "outputs": [
    {
     "name": "stderr",
     "output_type": "stream",
     "text": [
      "/home/jpopp/.conda/envs/snakemake-eb/envs/pyro/lib/python3.10/site-packages/anndata/_core/anndata.py:1897: UserWarning: Observation names are not unique. To make them unique, call `.obs_names_make_unique`.\n",
      "  utils.warn_names_duplicates(\"obs\")\n"
     ]
    },
    {
     "data": {
      "text/plain": [
       "AnnData object with n_obs × n_vars = 721171 × 36601\n",
       "    obs: 'sample_id', 'sample_barcode', 'donor_id', 'prob_max', 'prob_doublet', 'n_vars', 'best_singlet', 'best_doublet', 'doublet_logLikRatio'"
      ]
     },
     "execution_count": 7,
     "metadata": {},
     "output_type": "execute_result"
    }
   ],
   "source": [
    "anndata.concat([adata1, adata2])"
   ]
  },
  {
   "cell_type": "code",
   "execution_count": 8,
   "id": "05250964-5eae-482b-9990-3bfc01321e21",
   "metadata": {},
   "outputs": [
    {
     "data": {
      "text/plain": [
       "AnnData object with n_obs × n_vars = 292443 × 36601\n",
       "    obs: 'sample_id', 'sample_barcode', 'donor_id', 'prob_max', 'prob_doublet', 'n_vars', 'best_singlet', 'best_doublet', 'doublet_logLikRatio'\n",
       "    var: 'gene_ids', 'feature_types'"
      ]
     },
     "execution_count": 8,
     "metadata": {},
     "output_type": "execute_result"
    }
   ],
   "source": [
    "adata1"
   ]
  },
  {
   "cell_type": "code",
   "execution_count": 9,
   "id": "8d5d9a19-b5ff-49f6-a7af-63fe9e853d84",
   "metadata": {},
   "outputs": [
    {
     "data": {
      "text/plain": [
       "AnnData object with n_obs × n_vars = 428728 × 36601\n",
       "    obs: 'sample_id', 'sample_barcode', 'donor_id', 'prob_max', 'prob_doublet', 'n_vars', 'best_singlet', 'best_doublet', 'doublet_logLikRatio'\n",
       "    var: 'gene_ids', 'feature_types'"
      ]
     },
     "execution_count": 9,
     "metadata": {},
     "output_type": "execute_result"
    }
   ],
   "source": [
    "adata2"
   ]
  },
  {
   "cell_type": "code",
   "execution_count": 10,
   "id": "fd7339ea-168c-4b5f-91a6-cba1a588299a",
   "metadata": {},
   "outputs": [
    {
     "data": {
      "text/plain": [
       "721171"
      ]
     },
     "execution_count": 10,
     "metadata": {},
     "output_type": "execute_result"
    }
   ],
   "source": [
    "428728 + 292443"
   ]
  },
  {
   "cell_type": "code",
   "execution_count": null,
   "id": "4cd30aaa-6a13-4f54-8970-ddc458333806",
   "metadata": {},
   "outputs": [],
   "source": []
  }
 ],
 "metadata": {
  "kernelspec": {
   "display_name": "pyro",
   "language": "python",
   "name": "pyro"
  },
  "language_info": {
   "codemirror_mode": {
    "name": "ipython",
    "version": 3
   },
   "file_extension": ".py",
   "mimetype": "text/x-python",
   "name": "python",
   "nbconvert_exporter": "python",
   "pygments_lexer": "ipython3",
   "version": "3.10.13"
  }
 },
 "nbformat": 4,
 "nbformat_minor": 5
}
