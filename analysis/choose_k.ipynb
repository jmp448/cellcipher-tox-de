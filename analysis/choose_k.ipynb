{
 "cells": [
  {
   "cell_type": "code",
   "execution_count": 1,
   "id": "e2a26f78-612c-479d-b9dd-6348342a38e5",
   "metadata": {},
   "outputs": [
    {
     "name": "stderr",
     "output_type": "stream",
     "text": [
      "Global seed set to 0\n"
     ]
    }
   ],
   "source": [
    "import scanpy as sc\n",
    "import scvi\n",
    "import pandas as pd\n",
    "import numpy as np\n",
    "import seaborn as sns\n",
    "from sklearn.preprocessing import OneHotEncoder\n",
    "from scipy.sparse import coo_matrix"
   ]
  },
  {
   "cell_type": "code",
   "execution_count": 2,
   "id": "407ac22e-ec2e-4eee-9b1b-d2df0e4abbf2",
   "metadata": {},
   "outputs": [],
   "source": [
    "tox_adata = sc.read_h5ad(\"/project/gilad/jpopp/cellcipher/data/Tox1-full/single_cell_objects/filtered_pflog1ppfnorm.hvg.umap_embedding.h5ad\")\n",
    "tox_adata_raw = sc.read_h5ad(\"/project/gilad/jpopp/cellcipher/data/Tox1-full/single_cell_objects/filtered.h5ad\")"
   ]
  },
  {
   "cell_type": "code",
   "execution_count": 3,
   "id": "d3511762-9434-412e-bd6a-44446ebb5136",
   "metadata": {},
   "outputs": [],
   "source": [
    "dmso_cells = [tox_adata.obs.index[i] for i in range(tox_adata.obs.shape[0]) if tox_adata.obs['sample_id'][i] in ['YG-KR-10X-13s-Tox-01', 'YG-KR-10X-13s-Tox-02']]"
   ]
  },
  {
   "cell_type": "code",
   "execution_count": 4,
   "id": "58ed43ce-bfd0-4d07-b2ab-f0870a7fe1f3",
   "metadata": {},
   "outputs": [],
   "source": [
    "dmso_adata = tox_adata[dmso_cells]\n",
    "dmso_adata_raw = tox_adata_raw[dmso_cells]"
   ]
  },
  {
   "cell_type": "markdown",
   "id": "7fc95cce-a2e5-4cae-af8d-c7f39c0331e9",
   "metadata": {},
   "source": [
    "Split counts (Poisson count splitting, for now)"
   ]
  },
  {
   "cell_type": "code",
   "execution_count": 5,
   "id": "2255b658-d642-4a8c-bdb9-184f4cca720c",
   "metadata": {},
   "outputs": [],
   "source": [
    "dmso_coo_train = coo_matrix(dmso_adata_raw.X.copy())\n",
    "dmso_coo_test = coo_matrix(dmso_adata_raw.X.copy())\n",
    "dmso_nonzero = dmso_coo_train.data"
   ]
  },
  {
   "cell_type": "code",
   "execution_count": 7,
   "id": "67fdd3e6-9b15-42b7-9af9-344b21659f5f",
   "metadata": {},
   "outputs": [],
   "source": [
    "dmso_nonzero_train = np.random.binomial(n=dmso_nonzero.astype(int), p=0.5)\n",
    "dmso_nonzero_test = dmso_nonzero - dmso_nonzero_train"
   ]
  },
  {
   "cell_type": "code",
   "execution_count": 8,
   "id": "36eb3194-fa43-4fe8-ac53-82a6a83294d6",
   "metadata": {},
   "outputs": [],
   "source": [
    "dmso_coo_train.data = dmso_nonzero_train\n",
    "dmso_train = dmso_coo_train.tocsr()\n",
    "dmso_train.eliminate_zeros()\n",
    "\n",
    "dmso_coo_test.data = dmso_nonzero_test\n",
    "dmso_test = dmso_coo_test.tocsr()\n",
    "dmso_test.eliminate_zeros()"
   ]
  },
  {
   "cell_type": "code",
   "execution_count": 9,
   "id": "0b187139-48fc-4553-999c-d009c8b10b3d",
   "metadata": {},
   "outputs": [],
   "source": [
    "dmso_adata_raw.layers['train'] = dmso_train\n",
    "dmso_adata_raw.layers['test'] = dmso_test"
   ]
  },
  {
   "cell_type": "code",
   "execution_count": 10,
   "id": "e7a70a0a-5945-4f57-8c3c-36223214fba8",
   "metadata": {},
   "outputs": [
    {
     "name": "stderr",
     "output_type": "stream",
     "text": [
      "/scratch/midway2/jpopp/.conda/envs/scvi-scanpy/lib/python3.9/site-packages/scvi/model/base/_training_mixin.py:67: UserWarning: max_epochs=100 is less than n_epochs_kl_warmup=400. The max_kl_weight will not be reached during training.\n",
      "  warnings.warn(\n",
      "GPU available: True, used: True\n",
      "TPU available: False, using: 0 TPU cores\n",
      "IPU available: False, using: 0 IPUs\n",
      "HPU available: False, using: 0 HPUs\n",
      "LOCAL_RANK: 0 - CUDA_VISIBLE_DEVICES: [0]\n"
     ]
    },
    {
     "name": "stdout",
     "output_type": "stream",
     "text": [
      "Epoch 100/100: 100%|██████████| 100/100 [13:54<00:00,  8.34s/it, loss=5.32e+03, v_num=1]\n"
     ]
    }
   ],
   "source": [
    "# Set up anndata object for scVI\n",
    "scvi.model.LinearSCVI.setup_anndata(dmso_adata_raw, layer='train')\n",
    "\n",
    "# Train linearly decoded VAE model\n",
    "mod = scvi.model.LinearSCVI(dmso_adata_raw, n_latent=10, \n",
    "                            gene_likelihood = 'nb', latent_distribution='ln')\n",
    "mod.train(max_epochs=100, plan_kwargs={'lr':5e-3}, check_val_every_n_epoch=10)\n",
    "\n",
    "# Save results\n",
    "dmso_adata_raw.obsm[\"X_scVI\"] = mod.get_latent_representation()"
   ]
  },
  {
   "cell_type": "code",
   "execution_count": 13,
   "id": "36ea67e1-59aa-4e46-b903-cbdf5f05713a",
   "metadata": {},
   "outputs": [],
   "source": [
    "dmso_adata_test = dmso_adata_raw.copy()"
   ]
  },
  {
   "cell_type": "code",
   "execution_count": 20,
   "id": "1915a11e-90d3-46e0-9695-38061fded5ce",
   "metadata": {},
   "outputs": [
    {
     "data": {
      "text/plain": [
       "array([[0.0248289 , 0.11522806, 0.09170242, ..., 0.13460532, 0.11373047,\n",
       "        0.10688931],\n",
       "       [0.02881909, 0.15218505, 0.0571594 , ..., 0.10337201, 0.19204408,\n",
       "        0.03881453],\n",
       "       [0.04336597, 0.0187551 , 0.12689348, ..., 0.13605908, 0.28828502,\n",
       "        0.09914818],\n",
       "       ...,\n",
       "       [0.06926972, 0.11502334, 0.07196866, ..., 0.00257266, 0.14235353,\n",
       "        0.13015486],\n",
       "       [0.07543416, 0.08032739, 0.1347192 , ..., 0.10344084, 0.1099667 ,\n",
       "        0.09161605],\n",
       "       [0.05709597, 0.08106097, 0.02911263, ..., 0.02973681, 0.20784071,\n",
       "        0.13112696]], dtype=float32)"
      ]
     },
     "execution_count": 20,
     "metadata": {},
     "output_type": "execute_result"
    }
   ],
   "source": [
    "dmso_adata_raw.obsm['X_scVI']"
   ]
  },
  {
   "cell_type": "code",
   "execution_count": 24,
   "id": "68d4452b-f34c-48b9-a7b0-8402951d7e9f",
   "metadata": {},
   "outputs": [
    {
     "ename": "AttributeError",
     "evalue": "'NegativeBinomial' object has no attribute 'zi_probs'",
     "output_type": "error",
     "traceback": [
      "\u001b[0;31m---------------------------------------------------------------------------\u001b[0m",
      "\u001b[0;31mAttributeError\u001b[0m                            Traceback (most recent call last)",
      "Input \u001b[0;32mIn [24]\u001b[0m, in \u001b[0;36m<cell line: 1>\u001b[0;34m()\u001b[0m\n\u001b[0;32m----> 1\u001b[0m \u001b[43mmod\u001b[49m\u001b[38;5;241;43m.\u001b[39;49m\u001b[43mget_likelihood_parameters\u001b[49m\u001b[43m(\u001b[49m\u001b[43m)\u001b[49m\n",
      "File \u001b[0;32m/scratch/midway2/jpopp/.conda/envs/scvi-scanpy/lib/python3.9/site-packages/torch/autograd/grad_mode.py:28\u001b[0m, in \u001b[0;36m_DecoratorContextManager.__call__.<locals>.decorate_context\u001b[0;34m(*args, **kwargs)\u001b[0m\n\u001b[1;32m     25\u001b[0m \u001b[38;5;129m@functools\u001b[39m\u001b[38;5;241m.\u001b[39mwraps(func)\n\u001b[1;32m     26\u001b[0m \u001b[38;5;28;01mdef\u001b[39;00m \u001b[38;5;21mdecorate_context\u001b[39m(\u001b[38;5;241m*\u001b[39margs, \u001b[38;5;241m*\u001b[39m\u001b[38;5;241m*\u001b[39mkwargs):\n\u001b[1;32m     27\u001b[0m     \u001b[38;5;28;01mwith\u001b[39;00m \u001b[38;5;28mself\u001b[39m\u001b[38;5;241m.\u001b[39m\u001b[38;5;18m__class__\u001b[39m():\n\u001b[0;32m---> 28\u001b[0m         \u001b[38;5;28;01mreturn\u001b[39;00m \u001b[43mfunc\u001b[49m\u001b[43m(\u001b[49m\u001b[38;5;241;43m*\u001b[39;49m\u001b[43margs\u001b[49m\u001b[43m,\u001b[49m\u001b[43m \u001b[49m\u001b[38;5;241;43m*\u001b[39;49m\u001b[38;5;241;43m*\u001b[39;49m\u001b[43mkwargs\u001b[49m\u001b[43m)\u001b[49m\n",
      "File \u001b[0;32m/scratch/midway2/jpopp/.conda/envs/scvi-scanpy/lib/python3.9/site-packages/scvi/model/base/_rnamixin.py:493\u001b[0m, in \u001b[0;36mRNASeqMixin.get_likelihood_parameters\u001b[0;34m(self, adata, indices, n_samples, give_mean, batch_size)\u001b[0m\n\u001b[1;32m    491\u001b[0m px_r \u001b[38;5;241m=\u001b[39m px\u001b[38;5;241m.\u001b[39mtheta\n\u001b[1;32m    492\u001b[0m px_rate \u001b[38;5;241m=\u001b[39m px\u001b[38;5;241m.\u001b[39mmu\n\u001b[0;32m--> 493\u001b[0m px_dropout \u001b[38;5;241m=\u001b[39m \u001b[43mpx\u001b[49m\u001b[38;5;241;43m.\u001b[39;49m\u001b[43mzi_probs\u001b[49m\n\u001b[1;32m    495\u001b[0m n_batch \u001b[38;5;241m=\u001b[39m px_rate\u001b[38;5;241m.\u001b[39msize(\u001b[38;5;241m0\u001b[39m) \u001b[38;5;28;01mif\u001b[39;00m n_samples \u001b[38;5;241m==\u001b[39m \u001b[38;5;241m1\u001b[39m \u001b[38;5;28;01melse\u001b[39;00m px_rate\u001b[38;5;241m.\u001b[39msize(\u001b[38;5;241m1\u001b[39m)\n\u001b[1;32m    497\u001b[0m px_r \u001b[38;5;241m=\u001b[39m px_r\u001b[38;5;241m.\u001b[39mcpu()\u001b[38;5;241m.\u001b[39mnumpy()\n",
      "\u001b[0;31mAttributeError\u001b[0m: 'NegativeBinomial' object has no attribute 'zi_probs'"
     ]
    }
   ],
   "source": [
    "mod.get_likelihood_parameters()"
   ]
  },
  {
   "cell_type": "code",
   "execution_count": null,
   "id": "9b34605b-a655-4de6-a7f5-c17c2d2e1464",
   "metadata": {},
   "outputs": [],
   "source": []
  }
 ],
 "metadata": {
  "kernelspec": {
   "display_name": "scvi-scanpy",
   "language": "python",
   "name": "scvi-scanpy"
  },
  "language_info": {
   "codemirror_mode": {
    "name": "ipython",
    "version": 3
   },
   "file_extension": ".py",
   "mimetype": "text/x-python",
   "name": "python",
   "nbconvert_exporter": "python",
   "pygments_lexer": "ipython3",
   "version": "3.9.10"
  }
 },
 "nbformat": 4,
 "nbformat_minor": 5
}
